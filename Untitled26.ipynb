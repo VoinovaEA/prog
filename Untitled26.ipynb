{
  "nbformat": 4,
  "nbformat_minor": 0,
  "metadata": {
    "colab": {
      "provenance": [],
      "authorship_tag": "ABX9TyOF3GmGDJlD5KokG5YIIAQN",
      "include_colab_link": true
    },
    "kernelspec": {
      "name": "python3",
      "display_name": "Python 3"
    },
    "language_info": {
      "name": "python"
    }
  },
  "cells": [
    {
      "cell_type": "markdown",
      "metadata": {
        "id": "view-in-github",
        "colab_type": "text"
      },
      "source": [
        "<a href=\"https://colab.research.google.com/github/VoinovaEA/prog/blob/main/Untitled26.ipynb\" target=\"_parent\"><img src=\"https://colab.research.google.com/assets/colab-badge.svg\" alt=\"Open In Colab\"/></a>"
      ]
    },
    {
      "cell_type": "code",
      "execution_count": null,
      "metadata": {
        "id": "U3-w0Z5Umwoq"
      },
      "outputs": [],
      "source": [
        "def factorial(n):                   #O(1)\n",
        "if n==0 or n==1:                    #O(1)\n",
        "        return 1                    #O(1)\n",
        "    else:\n",
        "        return n * factorial(n - 1) #O(n)\n",
        "try:\n",
        "    n = int(input(\"Введите число: \"))#O(1)\n",
        "    print(f\"{n}! = {factorial(n)}\")  #O(1)\n",
        "except ValueError:\n",
        "    print(\"Ошибка: введите целое число!\")#O(1)\n",
        "# Общая временная сложнасть алгоритма будет равна О(n), так как функция factorial вызывает сама себя n раз"
      ]
    }
  ]
}