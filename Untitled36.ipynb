{
  "nbformat": 4,
  "nbformat_minor": 0,
  "metadata": {
    "colab": {
      "provenance": [],
      "authorship_tag": "ABX9TyME/UCo59R54BBHb8NHB/BG",
      "include_colab_link": true
    },
    "kernelspec": {
      "name": "python3",
      "display_name": "Python 3"
    },
    "language_info": {
      "name": "python"
    }
  },
  "cells": [
    {
      "cell_type": "markdown",
      "metadata": {
        "id": "view-in-github",
        "colab_type": "text"
      },
      "source": [
        "<a href=\"https://colab.research.google.com/github/VoinovaEA/prog/blob/main/Untitled36.ipynb\" target=\"_parent\"><img src=\"https://colab.research.google.com/assets/colab-badge.svg\" alt=\"Open In Colab\"/></a>"
      ]
    },
    {
      "cell_type": "code",
      "execution_count": 6,
      "metadata": {
        "colab": {
          "base_uri": "https://localhost:8080/"
        },
        "id": "z3q9B1N6d23f",
        "outputId": "6e5d42bf-9a2b-4167-8615-f59d192d3f69"
      },
      "outputs": [
        {
          "output_type": "stream",
          "name": "stdout",
          "text": [
            "Матрица смежности:\n",
            "[0, 1, 1, 0, 0, 0, 0]\n",
            "[1, 0, 0, 1, 0, 0, 0]\n",
            "[1, 0, 0, 0, 0, 0, 0]\n",
            "[0, 1, 0, 0, 0, 0, 0]\n",
            "[0, 0, 0, 0, 0, 1, 0]\n",
            "[0, 0, 0, 0, 1, 0, 1]\n",
            "[0, 0, 0, 0, 0, 1, 0]\n"
          ]
        }
      ],
      "source": [
        "def create_adjacency_matrix(edges, num_vertices):\n",
        "    adjacency_matrix = [[0 for _ in range(num_vertices)] for _ in range(num_vertices)]\n",
        "    for edge in edges:\n",
        "        u, v = edge\n",
        "        adjacency_matrix[u - 1][v - 1] = 1\n",
        "        adjacency_matrix[v - 1][u - 1] = 1\n",
        "    return adjacency_matrix\n",
        "\n",
        "edges = [(1, 2), (1, 3), (2, 4), (5, 6), (6, 7)]\n",
        "num_vertices = 7\n",
        "\n",
        "adjacency_matrix = create_adjacency_matrix(edges, num_vertices)\n",
        "\n",
        "print(\"Матрица смежности:\")\n",
        "for row in adjacency_matrix:\n",
        "    print(row)\n",
        "\n"
      ]
    },
    {
      "cell_type": "code",
      "source": [
        "\n",
        "def create_incidence_matrix(edges, num_vertices):\n",
        "\n",
        " num_edges = len(edges)\n",
        " incidence_matrix = [[0 for _ in range(num_edges)] for _ in range(num_vertices)]\n",
        " for edge_index, edge in enumerate(edges):\n",
        "  u, v = edge\n",
        "  incidence_matrix[u - 1][edge_index] = 1\n",
        "  incidence_matrix[v - 1][edge_index] = 1\n",
        "\n",
        " return incidence_matrix\n",
        "incidence_matrix = create_incidence_matrix(edges, num_vertices)\n",
        "print(\"\\nМатрица инцидентности:\")\n",
        "for row in incidence_matrix:\n",
        " print(row)\n"
      ],
      "metadata": {
        "colab": {
          "base_uri": "https://localhost:8080/"
        },
        "id": "CdMihYIuiFO0",
        "outputId": "9902d3a3-7a3b-499e-8d5d-05f1dbd6c76c"
      },
      "execution_count": 8,
      "outputs": [
        {
          "output_type": "stream",
          "name": "stdout",
          "text": [
            "\n",
            "Матрица инцидентности:\n",
            "[1, 1, 0, 0, 0]\n",
            "[1, 0, 1, 0, 0]\n",
            "[0, 1, 0, 0, 0]\n",
            "[0, 0, 1, 0, 0]\n",
            "[0, 0, 0, 1, 0]\n",
            "[0, 0, 0, 1, 1]\n",
            "[0, 0, 0, 0, 1]\n"
          ]
        }
      ]
    },
    {
      "cell_type": "code",
      "source": [
        "def find_connected_components(adjacency_matrix):\n",
        "    num_vertices = len(adjacency_matrix)\n",
        "    visited = [False] * num_vertices\n",
        "    components = []\n",
        "\n",
        "    def dfs(vertex, current_component):\n",
        "        visited[vertex] = True\n",
        "        current_component.append(vertex + 1)  # нумерация вершин с 1\n",
        "        for neighbor, is_connected in enumerate(adjacency_matrix[vertex]):\n",
        "            if is_connected and not visited[neighbor]:\n",
        "                dfs(neighbor, current_component)\n",
        "\n",
        "    for vertex in range(num_vertices):\n",
        "        if not visited[vertex]:\n",
        "            current_component = []\n",
        "            dfs(vertex, current_component)\n",
        "            components.append(current_component)\n",
        "\n",
        "    return components\n",
        "\n",
        "# Предположим, adjacency_matrix уже определена ранее\n",
        "connected_components = find_connected_components(adjacency_matrix)\n",
        "\n",
        "print(\"\\nКомпоненты связности графа:\")\n",
        "for i, component in enumerate(connected_components, start=1):\n",
        "    print(f\"Компонента {i}: {component}\")\n"
      ],
      "metadata": {
        "colab": {
          "base_uri": "https://localhost:8080/"
        },
        "id": "MHrcPEzjjI_l",
        "outputId": "67e92029-d45c-41a2-dced-8413bb95bd21"
      },
      "execution_count": 10,
      "outputs": [
        {
          "output_type": "stream",
          "name": "stdout",
          "text": [
            "\n",
            "Компоненты связности графа:\n",
            "Компонента 1: [1, 2, 4, 3]\n",
            "Компонента 2: [5, 6, 7]\n"
          ]
        }
      ]
    }
  ]
}