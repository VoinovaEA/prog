{
  "nbformat": 4,
  "nbformat_minor": 0,
  "metadata": {
    "colab": {
      "provenance": [],
      "authorship_tag": "ABX9TyPDACLWpnbjpLZjs6ZouSur",
      "include_colab_link": true
    },
    "kernelspec": {
      "name": "python3",
      "display_name": "Python 3"
    },
    "language_info": {
      "name": "python"
    }
  },
  "cells": [
    {
      "cell_type": "markdown",
      "metadata": {
        "id": "view-in-github",
        "colab_type": "text"
      },
      "source": [
        "<a href=\"https://colab.research.google.com/github/VoinovaEA/prog/blob/main/Untitled48.ipynb\" target=\"_parent\"><img src=\"https://colab.research.google.com/assets/colab-badge.svg\" alt=\"Open In Colab\"/></a>"
      ]
    },
    {
      "cell_type": "code",
      "execution_count": null,
      "metadata": {
        "colab": {
          "base_uri": "https://localhost:8080/"
        },
        "id": "5hu0N7k2xVSB",
        "outputId": "9af8dc16-655e-41cc-d936-4b0a43a844a4"
      },
      "outputs": [
        {
          "output_type": "stream",
          "name": "stdout",
          "text": [
            "Исходный массив: ['oue', 'bfh', 'shrhxfas', 'khucgysdtp', 'apple']\n",
            "Строка 'apple' найдена на позиции 4\n",
            "Массив после сортировки выбором: ['apple', 'bfh', 'khucgysdtp', 'oue', 'shrhxfas']\n",
            "Новый массив для пузырьковой сортировки: ['wobk', 'itonpruxoz', 'ozclmrn', 'fbdmeg', 'apple']\n",
            "Массив после пузырьковой сортировки: ['apple', 'fbdmeg', 'itonpruxoz', 'ozclmrn', 'wobk']\n"
          ]
        }
      ],
      "source": [
        "import random  # Импортируем модуль для работы с случайными числами\n",
        "import string  # Импортируем модуль для работы с буквами алфавита\n",
        "\n",
        "# Функция для генерации массива случайных строк\n",
        "def generate_random_string_array(size):\n",
        "    \"\"\"\n",
        "    Создаёт массив из 'size' случайных строк.\n",
        "    Каждая строка имеет длину от 3 до 10 символов.\n",
        "    \"\"\"\n",
        "    array = []  # Инициализация пустого списка для хранения строк\n",
        "    for _ in range(size):  # Повторяем 'size' раз\n",
        "        length = random.randint(3, 10)  # Генерируем длину строки (от 3 до 10)\n",
        "        rand_str = ''.join(random.choices(string.ascii_lowercase, k=length))  # Создаём строку из случайных букв\n",
        "        # Убираем или комментируем следующую строку, чтобы не выводить каждую сгенерированную строку\n",
        "        # print(f\"Generated string: {rand_str} (длина: {len(rand_str)})\")\n",
        "        array.append(rand_str)  # Добавляем строку в массив\n",
        "    return array  # Возвращаем массив\n",
        "\n",
        "# Генерируем размер массива\n",
        "array_size = random.randint(3, 10)\n",
        "# Создаём массив случайных строк указанного размера\n",
        "array = generate_random_string_array(array_size)\n",
        "\n",
        "# Обязательно вставляем \"apple\" в массив\n",
        "array.append(\"apple\")\n",
        "\n",
        "print(\"Исходный массив:\", array)\n",
        "\n",
        "# Далее идут ваши функции поиска и сортировки...\n",
        "def sequential_search(arr, target):\n",
        "    for i, item in enumerate(arr):\n",
        "        if item == target:\n",
        "            return i\n",
        "    return -1\n",
        "\n",
        "def selection_sort(arr):\n",
        "    n = len(arr)\n",
        "    for i in range(n):\n",
        "        min_idx = i\n",
        "        for j in range(i+1, n):\n",
        "            if arr[j] < arr[min_idx]:\n",
        "                min_idx = j\n",
        "        arr[i], arr[min_idx] = arr[min_idx], arr[i]\n",
        "\n",
        "# Поиск \"apple\"\n",
        "index = sequential_search(array, \"apple\")\n",
        "if index != -1:\n",
        "    print(f\"Строка 'apple' найдена на позиции {index}\")\n",
        "else:\n",
        "    print(\"Строка 'apple' не найдена в массиве.\")\n",
        "\n",
        "# Сортировка методом выбора\n",
        "selection_sort(array)\n",
        "print(\"Массив после сортировки выбором:\", array)\n",
        "\n",
        "# Для пузырьковой сортировки создадим новый массив и вставим \"apple\"\n",
        "array_bubble = generate_random_string_array(array_size)\n",
        "array_bubble.append(\"apple\")\n",
        "print(\"Новый массив для пузырьковой сортировки:\", array_bubble)\n",
        "\n",
        "def bubble_sort(arr):\n",
        "    n = len(arr)\n",
        "    for i in range(n):\n",
        "        for j in range(0, n - i -1):\n",
        "            if arr[j] > arr[j+1]:\n",
        "                arr[j], arr[j+1] = arr[j+1], arr[j]\n",
        "\n",
        "bubble_sort(array_bubble)\n",
        "print(\"Массив после пузырьковой сортировки:\", array_bubble)"
      ]
    }
  ]
}