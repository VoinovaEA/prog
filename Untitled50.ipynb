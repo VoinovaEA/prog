{
  "nbformat": 4,
  "nbformat_minor": 0,
  "metadata": {
    "colab": {
      "provenance": [],
      "authorship_tag": "ABX9TyO5ZmP9ECshO6C+DDsidj7R",
      "include_colab_link": true
    },
    "kernelspec": {
      "name": "python3",
      "display_name": "Python 3"
    },
    "language_info": {
      "name": "python"
    }
  },
  "cells": [
    {
      "cell_type": "markdown",
      "metadata": {
        "id": "view-in-github",
        "colab_type": "text"
      },
      "source": [
        "<a href=\"https://colab.research.google.com/github/VoinovaEA/prog/blob/main/Untitled50.ipynb\" target=\"_parent\"><img src=\"https://colab.research.google.com/assets/colab-badge.svg\" alt=\"Open In Colab\"/></a>"
      ]
    },
    {
      "cell_type": "code",
      "execution_count": 1,
      "metadata": {
        "colab": {
          "base_uri": "https://localhost:8080/",
          "height": 72
        },
        "id": "7gU4xyYcmpY7",
        "outputId": "058488a7-625e-4389-89d1-acbed92caeeb"
      },
      "outputs": [
        {
          "output_type": "stream",
          "name": "stdout",
          "text": [
            "SQL-скрипт 'populate_db_users_posts.sql' успешно сгенерирован.\n",
            "В нем есть вставки для данных и запрос для поиска постов со словом 'базы'.\n",
            "Начинается скачивание файла...\n"
          ]
        },
        {
          "output_type": "display_data",
          "data": {
            "text/plain": [
              "<IPython.core.display.Javascript object>"
            ],
            "application/javascript": [
              "\n",
              "    async function download(id, filename, size) {\n",
              "      if (!google.colab.kernel.accessAllowed) {\n",
              "        return;\n",
              "      }\n",
              "      const div = document.createElement('div');\n",
              "      const label = document.createElement('label');\n",
              "      label.textContent = `Downloading \"${filename}\": `;\n",
              "      div.appendChild(label);\n",
              "      const progress = document.createElement('progress');\n",
              "      progress.max = size;\n",
              "      div.appendChild(progress);\n",
              "      document.body.appendChild(div);\n",
              "\n",
              "      const buffers = [];\n",
              "      let downloaded = 0;\n",
              "\n",
              "      const channel = await google.colab.kernel.comms.open(id);\n",
              "      // Send a message to notify the kernel that we're ready.\n",
              "      channel.send({})\n",
              "\n",
              "      for await (const message of channel.messages) {\n",
              "        // Send a message to notify the kernel that we're ready.\n",
              "        channel.send({})\n",
              "        if (message.buffers) {\n",
              "          for (const buffer of message.buffers) {\n",
              "            buffers.push(buffer);\n",
              "            downloaded += buffer.byteLength;\n",
              "            progress.value = downloaded;\n",
              "          }\n",
              "        }\n",
              "      }\n",
              "      const blob = new Blob(buffers, {type: 'application/binary'});\n",
              "      const a = document.createElement('a');\n",
              "      a.href = window.URL.createObjectURL(blob);\n",
              "      a.download = filename;\n",
              "      div.appendChild(a);\n",
              "      a.click();\n",
              "      div.remove();\n",
              "    }\n",
              "  "
            ]
          },
          "metadata": {}
        },
        {
          "output_type": "display_data",
          "data": {
            "text/plain": [
              "<IPython.core.display.Javascript object>"
            ],
            "application/javascript": [
              "download(\"download_98ef97ae-775b-4889-b21d-e68cdfcf82cd\", \"populate_db_users_posts.sql\", 18826)"
            ]
          },
          "metadata": {}
        }
      ],
      "source": [
        "import random\n",
        "from google.colab import files\n",
        "\n",
        "# --- Настройки ---\n",
        "DB_NAME_PLACEHOLDER = \"s12345_db\"  # Название базы данных\n",
        "NUM_USERS = random.randint(50, 60)  # Количество пользователей\n",
        "NUM_POSTS = random.randint(40, 50)  # Количество постов\n",
        "OUTPUT_SQL_FILENAME = \"populate_db_users_posts.sql\"\n",
        "\n",
        "# --- Данные для генерации ---\n",
        "\n",
        "# Имена пользователей и почты\n",
        "usernames = [\"ivan\", \"alexey\", \"dmitry\", \"sergey\", \"mikhail\", \"pavel\", \"andrey\", \"vladimir\", \"gleb\", \"petr\"]\n",
        "emails_domains = [\"mail.ru\", \"yahoo.com\", \"gmail.com\", \"bk.ru\"]\n",
        "\n",
        "# Заголовки и контент для постов\n",
        "post_titles = [\"Обучение базам данных\", \"Проекты на Python\", \"Курсы SQL\", \"Обзор базы данных\", \"Введение в программирование\"]\n",
        "post_contents = [\n",
        "    \"Это очень полезный пост о том, как работать с базой данных.\",\n",
        "    \"Здесь вы найдете советы по SQL и созданию запросов.\",\n",
        "    \"Обучение базам данных - ключ к современным информационным системам.\"\n",
        "]\n",
        "\n",
        "# --- Функции для генерации SQL ---\n",
        "\n",
        "def generate_users_insert_statements(num_records):\n",
        "    \"\"\"Генерирует INSERT-запросы для таблицы users\"\"\"\n",
        "    inserts = []\n",
        "    for _ in range(num_records):\n",
        "        username = random.choice(usernames) + str(random.randint(1, 999))\n",
        "        email = f\"{username}@{random.choice(emails_domains)}\"\n",
        "        inserts.append(\n",
        "            f\"INSERT INTO `users` (`user_id`, `username`, `email`) VALUES \"\n",
        "            f\"(NULL, '{username}', '{email}');\"\n",
        "        )\n",
        "    return \"\\n\".join(inserts)\n",
        "\n",
        "def generate_posts_insert_statements(num_records):\n",
        "    \"\"\"Генерирует INSERT-запросы для таблицы posts\"\"\"\n",
        "    inserts = []\n",
        "    for _ in range(num_records):\n",
        "        user_id = random.randint(1, NUM_USERS)  # предполагаем, что user_id — целое от 1 до NUM_USERS\n",
        "        title = random.choice(post_titles)\n",
        "        content = random.choice(post_contents)\n",
        "        creation_date = f\"2025-{random.randint(1,9):02d}-{random.randint(10,28):02d} 12:00:00\"\n",
        "        inserts.append(\n",
        "            f\"INSERT INTO `posts` (`post_id`, `user_id`, `title`, `content`, `creation_date`) VALUES \"\n",
        "            f\"(NULL, {user_id}, '{title}', '{content}', '{creation_date}');\"\n",
        "        )\n",
        "    return \"\\n\".join(inserts)\n",
        "\n",
        "# --- Основной скрипт ---\n",
        "\n",
        "sql_script_content = []\n",
        "sql_script_content.append(f\"-- SQL-скрипт для заполнения БД '{DB_NAME_PLACEHOLDER}' (users и posts)\\n\")\n",
        "sql_script_content.append(f\"USE `{DB_NAME_PLACEHOLDER}`;\\n\")\n",
        "\n",
        "sql_script_content.append(\"-- Очистка таблиц перед вставкой\\n\")\n",
        "sql_script_content.append(\"SET FOREIGN_KEY_CHECKS = 0;\")\n",
        "sql_script_content.append(\"TRUNCATE TABLE `users`;\")\n",
        "sql_script_content.append(\"TRUNCATE TABLE `posts`;\")\n",
        "sql_script_content.append(\"SET FOREIGN_KEY_CHECKS = 1;\\n\")\n",
        "\n",
        "sql_script_content.append(\"-- Заполнение таблицы 'users'\\n\")\n",
        "sql_script_content.append(generate_users_insert_statements(NUM_USERS))\n",
        "sql_script_content.append(\"\\n-- Заполнение таблицы 'posts'\\n\")\n",
        "sql_script_content.append(generate_posts_insert_statements(NUM_POSTS))\n",
        "\n",
        "# Также добавляем SQL-запрос, который выводит все посты, где заголовок содержит \"базы\"\n",
        "sql_script_content.append(\"\\n-- Запрос на получение постов, в заголовке которых есть слово 'базы'\\n\")\n",
        "sql_script_content.append(\n",
        "    \"SELECT * FROM `posts` WHERE `title` LIKE '%базы%';\"\n",
        ")\n",
        "\n",
        "final_sql_string = \"\\n\".join(sql_script_content)\n",
        "\n",
        "# Создание файла и скачивание\n",
        "with open(OUTPUT_SQL_FILENAME, \"w\", encoding=\"utf-8\") as f:\n",
        "    f.write(final_sql_string)\n",
        "\n",
        "print(f\"SQL-скрипт '{OUTPUT_SQL_FILENAME}' успешно сгенерирован.\")\n",
        "print(\"В нем есть вставки для данных и запрос для поиска постов со словом 'базы'.\")\n",
        "print(\"Начинается скачивание файла...\")\n",
        "\n",
        "files.download(OUTPUT_SQL_FILENAME)"
      ]
    }
  ]
}